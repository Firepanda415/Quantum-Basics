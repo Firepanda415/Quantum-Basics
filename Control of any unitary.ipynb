{
 "cells": [
  {
   "cell_type": "code",
   "execution_count": 1,
   "id": "e622dade",
   "metadata": {},
   "outputs": [],
   "source": [
    "from qiskit import *"
   ]
  },
  {
   "cell_type": "markdown",
   "id": "62f61b91",
   "metadata": {},
   "source": [
    "$|0><0| \\otimes (I \\otimes I) + |1><1| \\otimes (X \\otimes Z)  ?= (|0><0| \\otimes I \\otimes I + |1><1| \\otimes X \\otimes I)(|0><0| \\otimes I \\otimes I + |1><1| \\otimes I \\otimes Z)]$"
   ]
  },
  {
   "cell_type": "code",
   "execution_count": 2,
   "id": "1fd05386",
   "metadata": {},
   "outputs": [
    {
     "data": {
      "image/png": "[encoded data removed]",
      "text/plain": [
       "<Figure size 146.652x144.48 with 1 Axes>"
      ]
     },
     "execution_count": 2,
     "metadata": {},
     "output_type": "execute_result"
    }
   ],
   "source": [
    "qc1 = QuantumCircuit(2)\n",
    "qc1.x(0)\n",
    "qc1.z(1)\n",
    "custom = qc1.to_gate().control(1)\n",
    "qc1.draw('mpl')"
   ]
  },
  {
   "cell_type": "code",
   "execution_count": 3,
   "id": "3808d261",
   "metadata": {},
   "outputs": [
    {
     "data": {
      "image/png": "[encoded data removed]",
      "text/plain": [
       "<Figure size 206.997x264.88 with 1 Axes>"
      ]
     },
     "execution_count": 3,
     "metadata": {},
     "output_type": "execute_result"
    }
   ],
   "source": [
    "\n",
    "qc1 = QuantumCircuit(2)\n",
    "qc1.x(0)\n",
    "qc1.z(1)\n",
    "custom = qc1.to_gate().control(1)\n",
    "\n",
    "qc2 = QuantumCircuit(4)\n",
    "qc2.append(custom, [0, 1,2])\n",
    "qc2.draw('mpl')"
   ]
  },
  {
   "cell_type": "markdown",
   "id": "a700fab5",
   "metadata": {},
   "source": [
    " For more generic gates, this method implements the controlled\n",
    "    version by first decomposing into the ['u1', 'u3', 'cx'] basis, then\n",
    "    controlling each gate in the decomposition.\n",
    "    \n",
    "    https://github.com/Qiskit/qiskit/blob/6e80e89e18da2691a86d4e2050db2e5479043b16/qiskit/circuit/add_control.py#L31C4-L33C48"
   ]
  },
  {
   "cell_type": "code",
   "execution_count": 4,
   "id": "cc8ccf81",
   "metadata": {},
   "outputs": [
    {
     "data": {
      "image/png": "[encoded data removed]",
      "text/plain": [
       "<Figure size 267.197x264.88 with 1 Axes>"
      ]
     },
     "execution_count": 4,
     "metadata": {},
     "output_type": "execute_result"
    }
   ],
   "source": [
    "qc2.decompose().draw('mpl')"
   ]
  },
  {
   "cell_type": "code",
   "execution_count": null,
   "id": "55268c6a",
   "metadata": {},
   "outputs": [],
   "source": []
  }
 ],
 "metadata": {
  "kernelspec": {
   "display_name": "Python 3",
   "language": "python",
   "name": "python3"
  },
  "language_info": {
   "codemirror_mode": {
    "name": "ipython",
    "version": 3
   },
   "file_extension": ".py",
   "mimetype": "text/x-python",
   "name": "python",
   "nbconvert_exporter": "python",
   "pygments_lexer": "ipython3",
   "version": "3.9.7"
  }
 },
 "nbformat": 4,
 "nbformat_minor": 5
}
