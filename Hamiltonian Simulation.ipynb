{
 "cells": [
  {
   "cell_type": "code",
   "execution_count": 1,
   "id": "ba249a47",
   "metadata": {},
   "outputs": [],
   "source": [
    "from qiskit.quantum_info import Statevector, Operator\n",
    "from qiskit import QuantumCircuit"
   ]
  },
  {
   "cell_type": "code",
   "execution_count": 2,
   "id": "5add9211",
   "metadata": {},
   "outputs": [
    {
     "data": {
      "image/png": "[encoded data removed]",
      "text/plain": [
       "<Figure size 507.997x204.68 with 1 Axes>"
      ]
     },
     "execution_count": 2,
     "metadata": {},
     "output_type": "execute_result"
    }
   ],
   "source": [
    "dt = 0.1\n",
    "\n",
    "# ancilary-qubit circuit for exp(i dt X \\otimes X)\n",
    "# Change from Nielson and Chuang P210\n",
    "circ1 = QuantumCircuit(3)\n",
    "circ1.h(0)\n",
    "circ1.h(1)\n",
    "circ1.cx(0,2)\n",
    "circ1.cx(1,2)\n",
    "circ1.rz(-2*dt,2)\n",
    "circ1.cx(1,2)\n",
    "circ1.cx(0,2)\n",
    "circ1.h(0)\n",
    "circ1.h(1)\n",
    "circ1.draw('mpl')"
   ]
  },
  {
   "cell_type": "markdown",
   "id": "520315cd",
   "metadata": {},
   "source": [
    "https://qiskit.org/documentation/stubs/qiskit.circuit.library.RZGate.html"
   ]
  },
  {
   "cell_type": "code",
   "execution_count": 3,
   "id": "6679573e",
   "metadata": {},
   "outputs": [
    {
     "data": {
      "image/png": "[encoded data removed]",
      "text/plain": [
       "<Figure size 507.997x204.68 with 1 Axes>"
      ]
     },
     "execution_count": 3,
     "metadata": {},
     "output_type": "execute_result"
    }
   ],
   "source": [
    "# no ancillary circuit for exp(i dt X \\otimes X \\otimes Z)\n",
    "\n",
    "# https://github.com/DavitKhach/quantum-algorithms-tutorials/blob/master/Hamiltonian_simulation.ipynb\n",
    "circ2 = QuantumCircuit(3)\n",
    "circ2.h(0)\n",
    "circ2.h(1)\n",
    "circ2.cx(0,1)\n",
    "circ2.cx(1,2)\n",
    "circ2.rz(-2*dt,2)\n",
    "circ2.cx(1,2)\n",
    "circ2.cx(0,1)\n",
    "circ2.h(0)\n",
    "circ2.h(1)\n",
    "circ2.draw('mpl')"
   ]
  },
  {
   "cell_type": "code",
   "execution_count": 4,
   "id": "84fe2286",
   "metadata": {},
   "outputs": [
    {
     "data": {
      "text/plain": [
       "0.0"
      ]
     },
     "execution_count": 4,
     "metadata": {},
     "output_type": "execute_result"
    }
   ],
   "source": [
    "import numpy as np\n",
    "np.linalg.norm(Operator(circ2) - Operator(circ1)) # So both circuits are the same"
   ]
  },
  {
   "cell_type": "markdown",
   "id": "01121485",
   "metadata": {},
   "source": [
    "## Test from theory"
   ]
  },
  {
   "cell_type": "code",
   "execution_count": 29,
   "id": "e69dea2c",
   "metadata": {},
   "outputs": [
    {
     "data": {
      "text/plain": [
       "array([[0.99500417-0.j        , 0.        +0.j        ,\n",
       "        0.        +0.j        , 0.        +0.09983342j,\n",
       "        0.        +0.j        , 0.        +0.j        ,\n",
       "        0.        +0.j        , 0.        +0.j        ],\n",
       "       [0.        +0.j        , 0.99500417-0.j        ,\n",
       "        0.        +0.09983342j, 0.        +0.j        ,\n",
       "        0.        +0.j        , 0.        +0.j        ,\n",
       "        0.        +0.j        , 0.        +0.j        ],\n",
       "       [0.        -0.j        , 0.        +0.09983342j,\n",
       "        0.99500417-0.j        , 0.        -0.j        ,\n",
       "        0.        -0.j        , 0.        -0.j        ,\n",
       "        0.        -0.j        , 0.        -0.j        ],\n",
       "       [0.        +0.09983342j, 0.        -0.j        ,\n",
       "        0.        -0.j        , 0.99500417-0.j        ,\n",
       "        0.        -0.j        , 0.        -0.j        ,\n",
       "        0.        -0.j        , 0.        -0.j        ],\n",
       "       [0.        +0.j        , 0.        +0.j        ,\n",
       "        0.        +0.j        , 0.        +0.j        ,\n",
       "        0.99500417+0.j        , 0.        +0.j        ,\n",
       "        0.        +0.j        , 0.        -0.09983342j],\n",
       "       [0.        +0.j        , 0.        +0.j        ,\n",
       "        0.        +0.j        , 0.        +0.j        ,\n",
       "        0.        +0.j        , 0.99500417+0.j        ,\n",
       "        0.        -0.09983342j, 0.        +0.j        ],\n",
       "       [0.        +0.j        , 0.        +0.j        ,\n",
       "        0.        +0.j        , 0.        +0.j        ,\n",
       "        0.        +0.j        , 0.        -0.09983342j,\n",
       "        0.99500417+0.j        , 0.        +0.j        ],\n",
       "       [0.        +0.j        , 0.        +0.j        ,\n",
       "        0.        +0.j        , 0.        +0.j        ,\n",
       "        0.        -0.09983342j, 0.        +0.j        ,\n",
       "        0.        +0.j        , 0.99500417+0.j        ]])"
      ]
     },
     "execution_count": 29,
     "metadata": {},
     "output_type": "execute_result"
    }
   ],
   "source": [
    "from qiskit.quantum_info import Pauli, SparsePauliOp\n",
    "from scipy.linalg import expm # exponential matrix\n",
    "\n",
    "op = 1j*dt* SparsePauliOp(Pauli('ZXX')).to_matrix() # idt XXZ (qiskit convention is ZXX)\n",
    "expm(op)"
   ]
  },
  {
   "cell_type": "code",
   "execution_count": 30,
   "id": "8e062733",
   "metadata": {},
   "outputs": [
    {
     "data": {
      "text/plain": [
       "9.6228224407467e-16"
      ]
     },
     "execution_count": 30,
     "metadata": {},
     "output_type": "execute_result"
    }
   ],
   "source": [
    "np.linalg.norm(Operator(circ2) - expm(op))"
   ]
  },
  {
   "cell_type": "code",
   "execution_count": null,
   "id": "3737b0ee",
   "metadata": {},
   "outputs": [],
   "source": []
  }
 ],
 "metadata": {
  "kernelspec": {
   "display_name": "Python 3",
   "language": "python",
   "name": "python3"
  },
  "language_info": {
   "codemirror_mode": {
    "name": "ipython",
    "version": 3
   },
   "file_extension": ".py",
   "mimetype": "text/x-python",
   "name": "python",
   "nbconvert_exporter": "python",
   "pygments_lexer": "ipython3",
   "version": "3.9.7"
  }
 },
 "nbformat": 4,
 "nbformat_minor": 5
}
